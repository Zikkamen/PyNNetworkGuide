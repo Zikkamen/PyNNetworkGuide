{
  "nbformat": 4,
  "nbformat_minor": 0,
  "metadata": {
    "colab": {
      "name": "Linear Regression",
      "provenance": [],
      "collapsed_sections": []
    },
    "kernelspec": {
      "name": "python3",
      "display_name": "Python 3"
    },
    "language_info": {
      "name": "python"
    }
  },
  "cells": [
    {
      "cell_type": "code",
      "metadata": {
        "id": "qi80BND9Per1"
      },
      "source": [
        "import numpy as np \n",
        "import matplotlib.pyplot as pl\n",
        "import random"
      ],
      "execution_count": 1,
      "outputs": []
    },
    {
      "cell_type": "code",
      "metadata": {
        "id": "5lDchlPn4CwC"
      },
      "source": [
        "def generate_matrix(X, d):\n",
        "  Output = np.power(X,0)\n",
        "\n",
        "  for i in range(1, d + 1):\n",
        "    Output = np.vstack([Output, np.power(X, i)])\n",
        "    \n",
        "  Output = np.matrix(Output)\n",
        "\n",
        "  return Output.T"
      ],
      "execution_count": 2,
      "outputs": []
    },
    {
      "cell_type": "code",
      "metadata": {
        "colab": {
          "base_uri": "https://localhost:8080/",
          "height": 265
        },
        "id": "7azSnGRyOx_Z",
        "outputId": "9b11bf7c-5a39-441a-dc9b-dfdd95f11a80"
      },
      "source": [
        "#Generate datapoints\n",
        "\n",
        "X_List = []\n",
        "Y_List = []\n",
        "spread   = 5\n",
        "n_points = 50\n",
        "\n",
        "for x in range(0,n_points):\n",
        "\n",
        "  X_List.append(x + \n",
        "           spread - random.randint(0,spread * 2))\n",
        "  Y_List.append(2*x + 1 + \n",
        "           spread - random.randint(0,spread * 2))\n",
        "\n",
        "pl.plot(X_List, Y_List, 'bo')\n",
        "X = np.matrix(generate_matrix(X_List,1))\n",
        "Y = np.matrix(Y_List)"
      ],
      "execution_count": 3,
      "outputs": [
        {
          "output_type": "display_data",
          "data": {
            "image/png": "[encoded data removed]",
            "text/plain": [
              "<Figure size 432x288 with 1 Axes>"
            ]
          },
          "metadata": {
            "needs_background": "light"
          }
        }
      ]
    },
    {
      "cell_type": "code",
      "metadata": {
        "id": "KxdMq1S88CuF"
      },
      "source": [
        "def sqErrorFunction(X, Y, theta): #Cost function: J = (1/m) * (X*theta - Y)^2\n",
        "  s = X @ theta - Y.T\n",
        "  J = (1/len(X)) * (s.T @ s)\n",
        "  \n",
        "  return J.item(0,0)"
      ],
      "execution_count": 4,
      "outputs": []
    },
    {
      "cell_type": "code",
      "metadata": {
        "id": "lN_m4IJAPixV"
      },
      "source": [
        "def gradient(X, Y, theta, alpha): #Gradient: delta = (alpha/m) * 2 * (X*theta - Y) * X (The derivative of the cost function)\n",
        "  m = len(X) \n",
        "  s = X @ theta - Y.T\n",
        "\n",
        "  theta = np.subtract(theta, (2*alpha/m) * np.matmul(s.T, X).T)\n",
        "\n",
        "  return theta"
      ],
      "execution_count": 5,
      "outputs": []
    },
    {
      "cell_type": "code",
      "metadata": {
        "colab": {
          "base_uri": "https://localhost:8080/",
          "height": 503
        },
        "id": "yL3Pc7dVPyAT",
        "outputId": "74915bf3-6c07-414f-e15a-7601109821cf"
      },
      "source": [
        "def main():\n",
        "  T = np.matrix([[0, 0]]).T\n",
        "  iterations = 1000\n",
        "  alpha      = 0.001\n",
        "\n",
        "  for i in range(iterations):\n",
        "    T = gradient(X, Y, T, alpha)\n",
        "\n",
        "    if(i % 100 == 0):\n",
        "      J = sqErrorFunction(X, Y, T)\n",
        "      print(\"Iteration {}: {}\".format(i,J))\n",
        "\n",
        "  J = sqErrorFunction(X, Y, T)\n",
        "  print(\"Cost Function: {}\".format(J))\n",
        "  print(\"Theta: {}\".format(T))\n",
        "\n",
        "  a = T.item(1,0)\n",
        "  b = T.item(0,0)\n",
        "\n",
        "  print(f\"Prediction f(x) = {round(a, 2)}x + {round(b , 2)}\") #If Generate datapoints wasn't changed f(x) should be around 2x + 1\n",
        "\n",
        "  X_Pred = []\n",
        "  Y_Pred = []\n",
        "\n",
        "  for x in range(0, n_points):\n",
        "    X_Pred.append(x)\n",
        "\n",
        "    y = a*x + b # y = a*x + b linear function\n",
        "    Y_Pred.append(y)\n",
        "\n",
        "  pl.plot(X_List, Y_List, 'bo', X_Pred, Y_Pred, 'r') #Datapoints are in Blue | Prediction is a line in Red\n",
        "\n",
        "main()"
      ],
      "execution_count": 6,
      "outputs": [
        {
          "output_type": "stream",
          "name": "stdout",
          "text": [
            "Iteration 0: 1497.1610860202243\n",
            "Iteration 100: 46.11244000024083\n",
            "Iteration 200: 45.906573702850174\n",
            "Iteration 300: 45.720724004869325\n",
            "Iteration 400: 45.552944671013464\n",
            "Iteration 500: 45.40147870052796\n",
            "Iteration 600: 45.264739927713215\n",
            "Iteration 700: 45.141296411450504\n",
            "Iteration 800: 45.02985543978147\n",
            "Iteration 900: 44.929249992508666\n",
            "Cost Function: 44.83928953680003\n",
            "Theta: [[1.2720654 ]\n",
            " [1.94708961]]\n",
            "Prediction f(x) = 1.95x + 1.27\n"
          ]
        },
        {
          "output_type": "display_data",
          "data": {
            "image/png": "[encoded data removed]",
            "text/plain": [
              "<Figure size 432x288 with 1 Axes>"
            ]
          },
          "metadata": {
            "needs_background": "light"
          }
        }
      ]
    }
  ]
}