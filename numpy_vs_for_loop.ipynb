{
  "nbformat": 4,
  "nbformat_minor": 0,
  "metadata": {
    "colab": {
      "name": "numpy vs for loop.ipynb",
      "provenance": [],
      "collapsed_sections": []
    },
    "kernelspec": {
      "name": "python3",
      "display_name": "Python 3"
    },
    "language_info": {
      "name": "python"
    }
  },
  "cells": [
    {
      "cell_type": "code",
      "metadata": {
        "id": "cVf89amCxCj-"
      },
      "source": [
        "#In this notebook I want to show that matrix multiplication is way faster on numpy than using for loops\n",
        "\n",
        "import numpy as np #import numpy and call it np\n",
        "import time"
      ],
      "execution_count": null,
      "outputs": []
    },
    {
      "cell_type": "code",
      "metadata": {
        "colab": {
          "base_uri": "https://localhost:8080/"
        },
        "id": "uC9_X_68xTS7",
        "outputId": "46e6c736-2592-48f9-96cf-9015dc53d3f4"
      },
      "source": [
        "\"\"\"\n",
        "Example of Matrix Multiplication\n",
        "\n",
        "A = 1 2  B = 1 2  C = A*B = 1*1+2*3 1*2+2*4 =  7 10 \n",
        "    3 4      3 4            3*1+4*3 3*2+4*4   15 22\n",
        "\"\"\"\n",
        "\n",
        "def matrix_mul_for(Matrix_A, Matrix_B, m_dim, l_dim, k_dim): #Matrix multiplication with for loop\n",
        "  C = [] #C = A*B\n",
        "\n",
        "  for n in range(m_dim): #C has m rows therefore m_dim\n",
        "    c_row = []\n",
        "    for m in range(k_dim): #C has k rows therefore k_dim\n",
        "      c_row.append(sum([Matrix_A[n][i] * Matrix_B[i][m] for i in range(l_dim)])) #Multiplication of row in A with column in B\n",
        "    C.append(c_row)\n",
        "\n",
        "  \n",
        "  return C\n",
        "\n",
        "#Generate Matrix for the Test\n",
        "\n",
        "m_dim = 5\n",
        "l_dim = 1000\n",
        "k_dim = 5\n",
        "\n",
        "A = [[x + i for x in range(l_dim)] for i in range(m_dim)] #Proportions of A: m x l\n",
        "B = [[x     for x in range(k_dim)] for i in range(l_dim)] #Proportions of B: l x k\n",
        "C = []                                                    #Proportions of C: m x k\n",
        "\n",
        "#For Loop Matrix Multiplication \n",
        "\n",
        "start = time.time()\n",
        "for i in range (1000):\n",
        "  C = matrix_mul_for(A, B, m_dim, l_dim, k_dim)\n",
        "stop  = time.time()\n",
        "\n",
        "print(f\"Matrix multiplication for loop \\ntime: {stop - start}s \\nMatrix: {C}\\n\")\n",
        "\n",
        "\n",
        "#Numpy Matrix Multiplication\n",
        "\n",
        "A_np = np.matrix(A)\n",
        "B_np = np.matrix(B)\n",
        "\n",
        "start = time.time()\n",
        "for i in range(1000):\n",
        " C_np = np.matmul(A_np, B_np) #In short form: A_np @ B_np\n",
        "stop  = time.time()\n",
        "\n",
        "print(f\"Matrix multiplication for numpy \\ntime: {stop - start}s \\nMatrix: {C_np}\")\n",
        "\n",
        "#As you can see the Matrix multiplication with for loop takes a lot more time than the multiplication with numpy\n",
        "#Therefore it is a good idea to use numpy especially for large matrixes"
      ],
      "execution_count": null,
      "outputs": [
        {
          "output_type": "stream",
          "name": "stdout",
          "text": [
            "Matrix multiplication for loop \n",
            "time: 4.194987773895264s \n",
            "Matrix: [[0, 499500, 999000, 1498500, 1998000], [0, 500500, 1001000, 1501500, 2002000], [0, 501500, 1003000, 1504500, 2006000], [0, 502500, 1005000, 1507500, 2010000], [0, 503500, 1007000, 1510500, 2014000]]\n",
            "\n",
            "Matrix multiplication for numpy \n",
            "time: 0.0346834659576416s \n",
            "Matrix: [[      0  499500  999000 1498500 1998000]\n",
            " [      0  500500 1001000 1501500 2002000]\n",
            " [      0  501500 1003000 1504500 2006000]\n",
            " [      0  502500 1005000 1507500 2010000]\n",
            " [      0  503500 1007000 1510500 2014000]]\n"
          ]
        }
      ]
    }
  ]
}